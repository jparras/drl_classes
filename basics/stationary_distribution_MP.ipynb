{
 "cells": [
  {
   "cell_type": "markdown",
   "source": [
    "**State visitation probability**\n",
    "\n",
    "In this exercise, we are going to check that the state visitation probability in an MP is the probability of visiting each state, which can be computed as the left eigenvector of the transition matrix corresponding to the eigenvalue 1.\n",
    "\n",
    "Let us start by importing the necessary libraries (only numpy in this case), and defining the transition matrix $\\mathcal{P}$ for our 2-state Markov Process."
   ],
   "metadata": {
    "collapsed": false
   }
  },
  {
   "cell_type": "code",
   "execution_count": 7,
   "outputs": [
    {
     "name": "stdout",
     "output_type": "stream",
     "text": [
      "[[0.6 0.4]\n",
      " [0.1 0.9]]\n"
     ]
    }
   ],
   "source": [
    "import numpy as np\n",
    "P = np.array([[0.6, 0.4], [0.1, 0.9]])\n",
    "print(P)"
   ],
   "metadata": {
    "collapsed": false
   }
  },
  {
   "cell_type": "markdown",
   "source": [
    "Now, you have to create some code that allows you to compute the state visitation probability $d$ for this Markov Process, starting from a random $d(0)$, as $d^T = \\lim_{t \\to \\infty} d(0)^T \\mathcal{P}^t$."
   ],
   "metadata": {
    "collapsed": false
   }
  },
  {
   "cell_type": "code",
   "execution_count": 8,
   "outputs": [
    {
     "name": "stdout",
     "output_type": "stream",
     "text": [
      "State visitation probability for trial 1: [[0.2 0.8]], with initial state visitation probability [[0.57172105 0.42827895]]\n",
      "State visitation probability for trial 2: [[0.2 0.8]], with initial state visitation probability [[0.486671 0.513329]]\n",
      "State visitation probability for trial 3: [[0.2 0.8]], with initial state visitation probability [[0.9567399 0.0432601]]\n",
      "State visitation probability for trial 4: [[0.2 0.8]], with initial state visitation probability [[0.70586267 0.29413733]]\n",
      "State visitation probability for trial 5: [[0.2 0.8]], with initial state visitation probability [[0.11104317 0.88895683]]\n"
     ]
    }
   ],
   "source": [
    "t = 10000  # Large enough time\n",
    "number_of_trials = 5  # Number of times we repeat the experiment\n",
    "\n",
    "for i in range(number_of_trials):\n",
    "    # Code to be filled by the student: find the state visitation probability d for a random initial state visitation probability d_init\n",
    "    print(f\"State visitation probability for trial {i+1}: {d}, with initial state visitation probability {d_init}\")"
   ],
   "metadata": {
    "collapsed": false
   }
  },
  {
   "cell_type": "markdown",
   "source": [
    "Finally, you have to check that the state visitation probability $d$ is the left eigenvector of the transition matrix corresponding to the eigenvalue 1. You can use the numpy function `np.linalg.eig` to compute the eigenvalues and eigenvectors of a matrix. Note that the eigenvectors are returned as the columns of the matrix returned by the function."
   ],
   "metadata": {
    "collapsed": false
   }
  },
  {
   "cell_type": "code",
   "execution_count": 23,
   "outputs": [
    {
     "name": "stdout",
     "output_type": "stream",
     "text": [
      "[[0.2]\n",
      " [0.8]]\n"
     ]
    }
   ],
   "source": [
    "# Code to be filled by the student: check that d is the left eigenvector of P corresponding to the eigenvalue 1 (remember to normalize the eigenvector to a probability distribution)"
   ],
   "metadata": {
    "collapsed": false
   }
  }
 ],
 "metadata": {
  "kernelspec": {
   "display_name": "Python 3",
   "language": "python",
   "name": "python3"
  },
  "language_info": {
   "codemirror_mode": {
    "name": "ipython",
    "version": 2
   },
   "file_extension": ".py",
   "mimetype": "text/x-python",
   "name": "python",
   "nbconvert_exporter": "python",
   "pygments_lexer": "ipython2",
   "version": "2.7.6"
  }
 },
 "nbformat": 4,
 "nbformat_minor": 0
}
