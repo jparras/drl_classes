{
 "cells": [
  {
   "cell_type": "markdown",
   "source": [
    "**The recycling robot**\n",
    "\n",
    "In this exercise, we are going to find the Optimal Policy, using the Bellman equations, for a mobile robot has the job of collecting empty cans in an office environment. The environment state is the robot's battery level, which could be in two states: low or high. The robot has to decide whether\n",
    "\n",
    "1. Actively search for cans,\n",
    "2. Be quiet and wait for someone to bring it a can or\n",
    "3. Move to its home base to recharge its battery.\n",
    "\n",
    "In order to find cans, the robot has to search them. But searching consumes the robot's battery, whereas waiting does not.\n",
    "\n",
    "The rewards can be zero if battery level is high and no can has been found (likely most of the time), positive when the robot secures an empty can and the battery remains high, or large and negative if the robot runs out of battery (since, in this case, the robot shuts down and waits to be rescued, causing a big cost).\n",
    "\n",
    "More formally, the state set is $\\mathcal{S}=\\left\\{ {\\rm high},{\\rm \\;low}\\right\\}$ , the action set is $A=\\left\\{ {\\rm search,}\\;{\\rm wait,}\\;{\\rm recharge}\\right\\}$  and the state transition probabilities are parameterized by parameters $\\alpha,\\beta$, as described in next Table\n",
    "\n",
    "![alt text](prob_robot.png \"Title\")\n",
    "\n",
    "Assuming that $\\alpha=0.3$, $\\beta=0.6$, $\\gamma=0.9$ and $r_{search}=1$, $r_{wait}=0.1$, and $r_{recharge}=0$, find the numerical solution using the Bellman equations.\n",
    "\n",
    "Let us start with the imports. We use numpy and scipy."
   ],
   "metadata": {
    "collapsed": false
   }
  },
  {
   "cell_type": "code",
   "execution_count": 1,
   "outputs": [],
   "source": [
    "import numpy as np\n",
    "from scipy.optimize import fsolve"
   ],
   "metadata": {
    "collapsed": false
   }
  },
  {
   "cell_type": "markdown",
   "source": [
    "Now, let us define the parameters of the problem, as stated in the exercise."
   ],
   "metadata": {
    "collapsed": false
   }
  },
  {
   "cell_type": "code",
   "execution_count": 2,
   "outputs": [],
   "source": [
    "alpha = 0.3\n",
    "beta = 0.6\n",
    "gamma = 0.9\n",
    "r_search = 1\n",
    "r_wait = 0.1\n",
    "r_recharge = 0"
   ],
   "metadata": {
    "collapsed": false
   }
  },
  {
   "cell_type": "markdown",
   "source": [
    "Now, obtain the optimal value function using the fsolve method from scipy.optimize. This method finds the root of a function, which is exactly what we need."
   ],
   "metadata": {
    "collapsed": false
   }
  },
  {
   "cell_type": "code",
   "execution_count": 3,
   "outputs": [
    {
     "name": "stdout",
     "output_type": "stream",
     "text": [
      "Optimal value found v* = [6.13 5.52]\n"
     ]
    }
   ],
   "source": [
    "def bellman_opt_equations(v):\n",
    "    # Code to be filled by the student\n",
    "\n",
    "v = fsolve(bellman_opt_equations, np.zeros((2, 1)))\n",
    "with np.printoptions(precision=2, suppress=True):\n",
    "    print(f\"Optimal value found v* = {v.flatten()}\")"
   ],
   "metadata": {
    "collapsed": false
   }
  }
 ],
 "metadata": {
  "kernelspec": {
   "display_name": "Python 3",
   "language": "python",
   "name": "python3"
  },
  "language_info": {
   "codemirror_mode": {
    "name": "ipython",
    "version": 2
   },
   "file_extension": ".py",
   "mimetype": "text/x-python",
   "name": "python",
   "nbconvert_exporter": "python",
   "pygments_lexer": "ipython2",
   "version": "2.7.6"
  }
 },
 "nbformat": 4,
 "nbformat_minor": 0
}
